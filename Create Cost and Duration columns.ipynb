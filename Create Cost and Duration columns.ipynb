{
 "cells": [
  {
   "cell_type": "code",
   "execution_count": null,
   "id": "ccaf77e4",
   "metadata": {},
   "outputs": [],
   "source": [
    "import numpy as np\n",
    "import pandas as pd\n",
    "import os\n",
    "from datetime import datetime\n",
    "import time\n",
    "\n",
    "# For Excel workbook/xlsx file\n",
    "# Please use the cleaned dataset, not the original one. Otherwise, this script won't work.\n",
    "path = r'#input file path#'\n",
    "df = pd.ExcelFile(path)\n",
    "df = pd.read_excel(df, 'Sheet1')"
   ]
  },
  {
   "cell_type": "code",
   "execution_count": null,
   "id": "2a7bf76a",
   "metadata": {},
   "outputs": [],
   "source": [
    "# Please don't forget MANUALLY indicating if the dataset is a training one or not!!\n",
    "# Type True or False after 'it_is_a_training_dataset'\n",
    "it_is_a_training_dataset = True\n",
    "\n",
    "print(it_is_a_training_dataset)"
   ]
  },
  {
   "cell_type": "code",
   "execution_count": null,
   "id": "ec165fc9",
   "metadata": {},
   "outputs": [],
   "source": [
    "# Create the feature investment cost column\n",
    "df['Feature-Total'] = df['Scenario__Total']\n",
    "\n",
    "print(df['Feature-Total'])"
   ]
  },
  {
   "cell_type": "code",
   "execution_count": null,
   "id": "c697338b",
   "metadata": {},
   "outputs": [],
   "source": [
    "# Create the feature investment duration (in the unit of month) column\n",
    "d1 = df['Scenario__FirstMonth']\n",
    "d2 = df['Scenario__LastMonth']\n",
    "d3 = df['Actuals_FirstMonth']\n",
    "d4 = df['Actuals_LastMonth']\n",
    "\n",
    "def month_differ(x, y):\n",
    "    month_differ = (y.year - x.year) * 12 + (y.month - x.month) * 1\n",
    "    return month_differ\n",
    "    \n",
    "def dif (a,b,c,d):\n",
    "    firstMonth = a\n",
    "    if firstMonth < c or firstMonth is None:\n",
    "        firstMonth = c\n",
    "    lastMonth = b\n",
    "    if lastMonth is None:\n",
    "        lastMonth = d\n",
    "    if firstMonth is None or lastMonth is None:\n",
    "        return None\n",
    "    return month_differ(firstMonth, lastMonth)\n",
    "\n",
    "FeatureDuration = []\n",
    "for i in range(len(d1)):\n",
    "    FeatureDuration.append(dif(d1[i], d2[i], d3[i], d4[i]))\n",
    "\n",
    "df['Feature-Duration'] = FeatureDuration\n",
    "\n",
    "print(df['Feature-Duration'])"
   ]
  },
  {
   "cell_type": "code",
   "execution_count": null,
   "id": "04b0855b",
   "metadata": {},
   "outputs": [],
   "source": [
    "# Create the label investment total column\n",
    "df['Label-Total'] = df['Actuals_Total']\n",
    "\n",
    "print(df['Label-Total'])"
   ]
  },
  {
   "cell_type": "code",
   "execution_count": null,
   "id": "d1c1f426",
   "metadata": {},
   "outputs": [],
   "source": [
    "# Create the label duration column in the unit of month\n",
    "LabelDuration = []\n",
    "for i in range(len(d1)):\n",
    "    LabelDuration.append(month_differ(d3[i], d4[i]))\n",
    "    \n",
    "df['Label-Duration'] = LabelDuration\n",
    "\n",
    "print(df['Label-Duration'])"
   ]
  },
  {
   "cell_type": "code",
   "execution_count": null,
   "id": "bc5b76fe",
   "metadata": {},
   "outputs": [],
   "source": [
    "# Create both feature and label columns if the dataset is a training one;\n",
    "# Create feature columns if the dataset is a testing one\n",
    "def c_d(df):\n",
    "    if it_is_a_training_dataset is True:\n",
    "        return df\n",
    "    else:\n",
    "        return df.drop(['Label-Total','Label-Duration'],axis=1)\n",
    "        \n",
    "df = c_d(df)   \n",
    "\n",
    "print(df)"
   ]
  },
  {
   "cell_type": "code",
   "execution_count": null,
   "id": "270115b7",
   "metadata": {},
   "outputs": [],
   "source": [
    "# Output file\n",
    "operation = '_cost_and_duration.xlsx'\n",
    "root_ext = os.path.splitext(path)\n",
    "outfile = root_ext[0] + operation\n",
    "df.to_excel(outfile, index=False, encoding='utf-8')"
   ]
  },
  {
   "cell_type": "code",
   "execution_count": null,
   "id": "357d3af5",
   "metadata": {},
   "outputs": [],
   "source": []
  }
 ],
 "metadata": {
  "kernelspec": {
   "display_name": "Python 3 (ipykernel)",
   "language": "python",
   "name": "python3"
  },
  "language_info": {
   "codemirror_mode": {
    "name": "ipython",
    "version": 3
   },
   "file_extension": ".py",
   "mimetype": "text/x-python",
   "name": "python",
   "nbconvert_exporter": "python",
   "pygments_lexer": "ipython3",
   "version": "3.9.7"
  }
 },
 "nbformat": 4,
 "nbformat_minor": 5
}
