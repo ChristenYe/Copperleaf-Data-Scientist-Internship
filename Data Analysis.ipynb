{
 "cells": [
  {
   "cell_type": "code",
   "execution_count": null,
   "id": "d7ed1143",
   "metadata": {},
   "outputs": [],
   "source": [
    "import pandas as pd\n",
    "import os\n",
    "import matplotlib.pyplot as plt\n",
    "import numpy as np\n",
    "import seaborn as sns\n",
    "import sys"
   ]
  },
  {
   "cell_type": "code",
   "execution_count": null,
   "id": "34bdeaa3",
   "metadata": {},
   "outputs": [],
   "source": [
    "investmentStages = [\"Initial\", \"Long Term Planning\", \"Short Term Planning\", \"Executing\", \"Completed\"]\n",
    "trainingColumns = ['Feature-Duration','Feature-Total','Label-Duration','Label-Total']\n",
    "testingColumns = ['Feature-Duration','Feature-Total']\n",
    "keywordTraining = 'training'\n",
    "keywordDuration = '-Duration'\n",
    "keywordCost = '-Total'"
   ]
  },
  {
   "cell_type": "code",
   "execution_count": null,
   "id": "b994dbf6",
   "metadata": {},
   "outputs": [],
   "source": [
    "# 1. Please first clean the dataset using the script called 'Portfolio Timeline Testing - \n",
    "# Data Cleaning' or 'Portfolio Timeline Training - Data Cleaning', based on the dataset type.\n",
    "# 2. Then use the 'Create Cost and Duration columns' script to prepare the dataset used as following.\n",
    "\n",
    "# Import the prepared datasets after completing the two steps above.\n",
    "trainingDataSet = \"Training Data\"\n",
    "inputNamesAndFiles = {\n",
    "    trainingDataSet :  r'#input file path#',\n",
    "    \"Testing Data 2019\" :  r'#input file path#',\n",
    "    \"Testing Data 2020\" :  r'#input file path#',\n",
    "    \"Testing Data 2021\" :  r'#input file path#'\n",
    "}\n",
    "\n",
    "# Load Data into a dictionary\n",
    "data = {}\n",
    "for inputNameAndFile in inputNamesAndFiles:\n",
    "    excelFile = pd.ExcelFile(inputNamesAndFiles[inputNameAndFile])\n",
    "    data[inputNameAndFile] = pd.read_excel(excelFile, 'Sheet1')\n",
    "    \n",
    "#print(data)"
   ]
  },
  {
   "cell_type": "code",
   "execution_count": null,
   "id": "395d2785",
   "metadata": {},
   "outputs": [],
   "source": [
    "# Remove redundant rows for the same investment by only keeping the latest row\n",
    "for inputData in data:\n",
    "    data[inputData] = data[inputData].groupby(['InvestmentCode'], as_index=False).apply(lambda i:i.iloc[-1])"
   ]
  },
  {
   "cell_type": "code",
   "execution_count": null,
   "id": "0f86eacf",
   "metadata": {
    "scrolled": true
   },
   "outputs": [],
   "source": [
    "# Statistical analysis for the features and label columns of the training dataset; \n",
    "# for the features columns of the testing dataset\n",
    "\n",
    "# 1. Analysis for the BPA training datasets\n",
    "\n",
    "for inputData in data :\n",
    "    print(\"=========== Data: \" + inputData + \" ===========\")\n",
    "    if keywordTraining in inputData.lower() :\n",
    "        print(data[inputData][trainingColumns].describe())\n",
    "    else :\n",
    "        print(data[inputData][testingColumns].describe())\n",
    "    print()"
   ]
  },
  {
   "cell_type": "code",
   "execution_count": null,
   "id": "e323c48b",
   "metadata": {},
   "outputs": [],
   "source": [
    "# Split data per investment stage\n",
    "dataPerStage = {}\n",
    "for inputData in data :\n",
    "    dataPerStage[inputData] = {}\n",
    "    for stage in investmentStages :\n",
    "        dataPerStage[inputData][stage] = data[inputData][data[inputData]['Investment_Core_InvestmentStage'] == stage]"
   ]
  },
  {
   "cell_type": "code",
   "execution_count": null,
   "id": "18b6b95b",
   "metadata": {},
   "outputs": [],
   "source": [
    "# Data analysis for each stage in each dataset\n",
    "for inputData in dataPerStage : # first loop to go over Training / Testing 2019 / Testing 2020 / Testing 2021 datasets\n",
    "    for stage in investmentStages : # second loop to go over investment stages\n",
    "        print(\"=========== Data: \" + inputData + \", Stage: \" + stage + \" ===========\")\n",
    "        if keywordTraining in inputData.lower() :\n",
    "            print(dataPerStage[inputData][stage][trainingColumns].describe())\n",
    "        else :\n",
    "            print(dataPerStage[inputData][stage][testingColumns].describe())\n",
    "        print()"
   ]
  },
  {
   "cell_type": "code",
   "execution_count": null,
   "id": "1c7f3b2f",
   "metadata": {},
   "outputs": [],
   "source": [
    "def DurationOrCost(displayDuration, dataPerStage):\n",
    "    \n",
    "    # 1. Set postfixKeyword for selecting either Duration or Cost\n",
    "    postfixKeyword = ''\n",
    "    if displayDuration is True:\n",
    "        postfixKeyword = keywordDuration\n",
    "    else :\n",
    "        postfixKeyword = keywordCost\n",
    "    \n",
    "    # 2. Determine Y axe min,max range\n",
    "    computedYLimit = (sys.float_info.max, sys.float_info.min)\n",
    "    for inputData in data :\n",
    "        computedYLimitForData = ( data[inputData]['Feature' + postfixKeyword].min(), \n",
    "                                  data[inputData]['Feature' + postfixKeyword].max())\n",
    "        # Only the training data set has label values\n",
    "        if 'Label' + postfixKeyword in data[inputData].columns :\n",
    "            computedYLimitForData = (min(computedYLimitForData[0], data[inputData]['Label' + postfixKeyword].min()),\n",
    "                                     max(computedYLimitForData[1], data[inputData]['Label' + postfixKeyword].max()))\n",
    "        computedYLimit = (min (computedYLimit[0], computedYLimitForData[0]),\n",
    "                          max (computedYLimit[1], computedYLimitForData[1]))\n",
    "        # Adjust the limit that excludes most outliers\n",
    "        if computedYLimit[1]>0.25*10**8:\n",
    "            computedYLimit = (computedYLimit[0],0.25*10**8)  \n",
    "        \n",
    "        \n",
    "    #3. Initialize plot area\n",
    "    fig, axs = plt.subplots(5,1,figsize=(10,20))\n",
    "    plt.setp(axs, ylim=computedYLimit)\n",
    "    \n",
    "    # 3a. Create Box Plot for Label\n",
    "    dataForBoxPlot = {}\n",
    "    for stage in investmentStages :\n",
    "        dataForBoxPlot[stage] = dataPerStage[trainingDataSet][stage]['Label' + postfixKeyword]\n",
    "    dataForBoxPlot['Overall'] = data[trainingDataSet]['Label' + postfixKeyword]\n",
    "    dataFrameforBoxPlot = pd.DataFrame(data=dataForBoxPlot)\n",
    "    dataFrameforBoxPlot.boxplot(ax=axs[0])\n",
    "    axs[0].set_title(trainingDataSet + '-Label' + postfixKeyword)\n",
    "    \n",
    "\n",
    "    \n",
    "    # 3b. Create Box Plot for Features\n",
    "    index = 1\n",
    "    for inputData in dataPerStage : # first loop to go over Training / Testing 2019 / Testing 2020 / Testing 2021 datasets\n",
    "        for stage in investmentStages : # second loop to go over investment stages, only looking at Features columns\n",
    "            dataForBoxPlot[stage] = dataPerStage[inputData][stage]['Feature' + postfixKeyword]\n",
    "        dataForBoxPlot['Overall'] = data[inputData]['Feature' + postfixKeyword]\n",
    "        \n",
    "        \n",
    "        dataFrameforBoxPlot = pd.DataFrame(data=dataForBoxPlot)\n",
    "        dataFrameforBoxPlot.boxplot(ax=axs[index])\n",
    "        axs[index].set_title(inputData +'-Feature' + postfixKeyword)\n",
    "        index = index + 1\n",
    "    \n",
    "    # Generate PDF files for the charts\n",
    "    filename = postfixKeyword[1:] +'.pdf'\n",
    "    plt.savefig(filename)\n"
   ]
  },
  {
   "cell_type": "code",
   "execution_count": null,
   "id": "e16e97d6",
   "metadata": {},
   "outputs": [],
   "source": [
    "# If you're interested in viewing the duration of the datasets, please type True for 'displayDuration'.\n",
    "# If you're interested in viewing the cost of the datasets, please type False for 'displayDuration'.\n",
    "displayDuration = True\n",
    "    \n",
    "DurationOrCost(displayDuration, dataPerStage)"
   ]
  },
  {
   "cell_type": "code",
   "execution_count": null,
   "id": "07b66b94",
   "metadata": {},
   "outputs": [],
   "source": [
    "interests = ['Scenario__FirstMonth', 'Scenario__LastMonth', 'Actuals_FirstMonth', 'Actuals_LastMonth',\\\n",
    "             'Feature-Duration', 'Label-Duration', 'InvestmentCode', 'Investment_Core_InvestmentStage']\n",
    "d = data['Training Data'][interests]\n",
    "\n",
    "print('Outlier Analysis for Feature Duration')\n",
    "print(d[d['Feature-Duration']>200].describe(include='all',datetime_is_numeric=True))\n",
    "\n",
    "print('Analysis for Feature Duration')\n",
    "print(d.describe(include='all',datetime_is_numeric=True))"
   ]
  },
  {
   "cell_type": "code",
   "execution_count": null,
   "id": "7a66fca3",
   "metadata": {},
   "outputs": [],
   "source": []
  }
 ],
 "metadata": {
  "kernelspec": {
   "display_name": "Python 3 (ipykernel)",
   "language": "python",
   "name": "python3"
  },
  "language_info": {
   "codemirror_mode": {
    "name": "ipython",
    "version": 3
   },
   "file_extension": ".py",
   "mimetype": "text/x-python",
   "name": "python",
   "nbconvert_exporter": "python",
   "pygments_lexer": "ipython3",
   "version": "3.9.7"
  }
 },
 "nbformat": 4,
 "nbformat_minor": 5
}
