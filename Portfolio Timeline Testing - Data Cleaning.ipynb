{
 "cells": [
  {
   "cell_type": "code",
   "execution_count": null,
   "id": "d98dc8dd",
   "metadata": {},
   "outputs": [],
   "source": [
    "import pandas as pd\n",
    "import os\n",
    "# Read data (second Excel sheet)\n",
    "path = r'#input file path#'\n",
    "\n",
    "# For Excel workbook/xlsx file\n",
    "df = pd.ExcelFile(path)\n",
    "df2 = pd.read_excel(df, 'Portfolio Timeline')\n",
    "\n",
    "# Print number of the unique investment and the shape of the original file\n",
    "print('Unique investment(Original): ',df2['InvestmentCode'].nunique())\n",
    "print('Shape of the dataset(Original): ',df2.shape)"
   ]
  },
  {
   "cell_type": "code",
   "execution_count": null,
   "id": "014e8c06",
   "metadata": {},
   "outputs": [],
   "source": [
    "# Step 1. For Investments created before 2013, drop all their rows\n",
    "# Export the file as 'Portfolio Timeline Training Data 1.xlsx'\n",
    "\n",
    "investment_list = df2[df2['DateStamp'] < \"2014-01-01\"].loc[:,'InvestmentCode']\n",
    "df2 = df2[~df2['InvestmentCode'].isin(investment_list)]\n",
    "# Print number of the unique investment and the shape of the dataset after Step 1\n",
    "print('Unique investment(Step 1): ',df2['InvestmentCode'].nunique())\n",
    "print('Shape of the dataset(Step 1): ',df2.shape)\n",
    "\n",
    "# Output the dataset after Step 1\n",
    "operation = '_after 2013.xlsx'\n",
    "root_ext = os.path.splitext(path)\n",
    "outfile = root_ext[0] + operation\n",
    "df2.to_excel(outfile, index=False, encoding='utf-8')"
   ]
  },
  {
   "cell_type": "code",
   "execution_count": null,
   "id": "0b1e7665",
   "metadata": {},
   "outputs": [],
   "source": [
    "#Step 2. Exclude rejected or merged investments by removing these or all related rows in Investment_Core_InvestmentStage\n",
    "\n",
    "# 1. Exclude rejected or merged investments in Investment_Core_InvestmentStage\n",
    "df21 = df2[~df2['Investment_Core_InvestmentStage'].isin(['Rejected','Merged'])]\n",
    "# Print number of the unique investment and the shape of the dataset after Step 2 Version 1\n",
    "print('Unique investment(Step 2 Version 1): ',df21['InvestmentCode'].nunique())\n",
    "print('Shape of the dataset(Step 2 Version 1): ',df21.shape)\n",
    "\n",
    "# Output the dataset after Step 2 Version 1\n",
    "operation = '_not merged or rejected.xlsx'\n",
    "root_ext = os.path.splitext(path)\n",
    "outfile = root_ext[0] + operation\n",
    "df21.to_excel(outfile, index=False, encoding='utf-8')\n",
    "\n",
    "# 2. Exclude rejected or merged investments and related rows in Investment_Core_InvestmentStage\n",
    "RM = df2[df2['Investment_Core_InvestmentStage'].isin(['Rejected','Merged'])]\n",
    "investment_list2 = RM.loc[:,'InvestmentCode']\n",
    "df22 = df2[~df2['InvestmentCode'].isin(investment_list2)]\n",
    "# Print number of the unique investment and the shape of the dataset after Step 2 Version 2\n",
    "print('Unique investment(Step 2 Version 2): ',df22['InvestmentCode'].nunique())\n",
    "print('Shape of the dataset(Step 2 Version 2): ',df22.shape)\n",
    "\n",
    "# Output the dataset after Step 2 Version 2\n",
    "operation = '_not merged or rejected or related.xlsx'\n",
    "root_ext = os.path.splitext(path)\n",
    "outfile = root_ext[0] + operation\n",
    "df22.to_excel(outfile, index=False, encoding='utf-8')"
   ]
  },
  {
   "cell_type": "code",
   "execution_count": null,
   "id": "5586df82",
   "metadata": {},
   "outputs": [],
   "source": [
    "# Step 3. Keep the only last submitted('ScenarioName') row for each investment's each stage ('Investment_Core_InvestmentStage')\n",
    "# 1. Based on 21\n",
    "df31 = df21.groupby(['InvestmentCode','ScenarioName','Investment_Core_InvestmentStage'], as_index=False)\\\n",
    ".apply(lambda i:i.iloc[-1])\n",
    "# Print number of the unique investment and the shape of the dataset after Step 3 Version 1\n",
    "print('Unique investment(Step 3 Version 1): ',df31['InvestmentCode'].nunique())\n",
    "print('Shape of the dataset(Step 3 Version 1): ',df31.shape)\n",
    "\n",
    "# Output the dataset after Step 3 Version 1\n",
    "operation = '_last submitted1.xlsx'\n",
    "root_ext = os.path.splitext(path)\n",
    "outfile = root_ext[0] + operation\n",
    "df31.to_excel(outfile, index=False, encoding='utf-8')\n",
    "\n",
    "#2.Based on 22\n",
    "df32 = df22.groupby(['InvestmentCode','ScenarioName','Investment_Core_InvestmentStage'], as_index=False)\\\n",
    ".apply(lambda i:i.iloc[-1])\n",
    "# Print number of the unique investment and the shape of the dataset after Step 3 Version 2\n",
    "print('Unique investment(Step 3 Version 2): ',df32['InvestmentCode'].nunique())\n",
    "print('Shape of the dataset(Step 3 Version 2): ',df32.shape)\n",
    "\n",
    "# Output the dataset after Step 3 Version 2\n",
    "operation = '_last submitted2.xlsx'\n",
    "root_ext = os.path.splitext(path)\n",
    "outfile = root_ext[0] + operation\n",
    "df32.to_excel(outfile, index=False, encoding='utf-8')"
   ]
  },
  {
   "cell_type": "code",
   "execution_count": null,
   "id": "653c9ead",
   "metadata": {},
   "outputs": [],
   "source": []
  }
 ],
 "metadata": {
  "kernelspec": {
   "display_name": "Python 3 (ipykernel)",
   "language": "python",
   "name": "python3"
  },
  "language_info": {
   "codemirror_mode": {
    "name": "ipython",
    "version": 3
   },
   "file_extension": ".py",
   "mimetype": "text/x-python",
   "name": "python",
   "nbconvert_exporter": "python",
   "pygments_lexer": "ipython3",
   "version": "3.9.7"
  }
 },
 "nbformat": 4,
 "nbformat_minor": 5
}
