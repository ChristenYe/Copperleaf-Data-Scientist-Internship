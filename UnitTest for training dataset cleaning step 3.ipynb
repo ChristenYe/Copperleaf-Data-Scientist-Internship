{
 "cells": [
  {
   "cell_type": "code",
   "execution_count": null,
   "id": "08e49468",
   "metadata": {},
   "outputs": [],
   "source": [
    "import pandas as pd\n",
    "import os\n",
    "\n",
    "#Read data (second Excel sheet)\n",
    "path = '#input file path#'\n",
    "dateLimit = '2021-10-01'\n",
    "\n",
    "# For Excel workbook/xlsx file\n",
    "df = pd.ExcelFile(path)\n",
    "df_sheet1 = pd.read_excel(df, 'Sheet1')\n",
    "\n",
    "print('Unique investment (Original): ',df_sheet1['InvestmentCode'].nunique())\n",
    "print('Shape of the dataset (Original): ',df_sheet1.shape)"
   ]
  },
  {
   "cell_type": "code",
   "execution_count": null,
   "id": "ce3f283c",
   "metadata": {},
   "outputs": [],
   "source": [
    "# Remove investment that has never reached 'Physical Completion' in MilestoneName (in at least row).\n",
    "\n",
    "df_WithMilestone = df_sheet1.groupby('InvestmentCode').filter(lambda x: x['MilestoneName'].notnull().any())\n",
    "\n",
    "print('Unique investment (Keep the ones with Milestones): ',df_WithMilestone['InvestmentCode'].nunique())\n",
    "print('Shape of the dataset (Keep the ones with Milestones): ',df_WithMilestone.shape)"
   ]
  },
  {
   "cell_type": "code",
   "execution_count": null,
   "id": "d9dab94a",
   "metadata": {},
   "outputs": [],
   "source": [
    "# Remove investment that they have a milestone date on or after october 2021.\n",
    "# The order for the date check is (1)ActualDate, (2)ForecastDate, (3)TargetDate\n",
    "pd.set_option('mode.chained_assignment', None)\n",
    "\n",
    "def CompletedMilestone (df):\n",
    "    df['date'] = df['Milestone_Core_ActualDate']\n",
    "    for i in df.index:    \n",
    "        if pd.isnull(df['date'][i]):\n",
    "            df['date'][i] = df['Milestone_Core_ForecastDate'][i]\n",
    "        if pd.isnull(df['date'][i]):\n",
    "            df['date'][i] = df['Milestone_Core_TargetDate'][i]\n",
    "    return df[df['date'] < dateLimit]\n",
    "\n",
    "df_RowsWithValidMilestones = CompletedMilestone(df_WithMilestone)\n",
    "df_InvestmentCodeWithValidMilestones = df_RowsWithValidMilestones.loc[:,'InvestmentCode']\n",
    "df_NoFutureMilestoneWithDateColumn = df_WithMilestone[df_WithMilestone['InvestmentCode'].isin(df_InvestmentCodeWithValidMilestones)]\n",
    "df_NoFutureMilestone = df_NoFutureMilestoneWithDateColumn.drop(columns=['date'])\n",
    "\n",
    "del df_RowsWithValidMilestones, df_InvestmentCodeWithValidMilestones, df_NoFutureMilestoneWithDateColumn\n",
    "\n",
    "#print(df_NoFutureMilestone)\n",
    "print('Unique investment (Keep the ones that do not have milestone in the future): ',df_NoFutureMilestone['InvestmentCode'].nunique())\n",
    "print('Shape of the dataset (Keep the ones that do not have milestone in the future): ',df_NoFutureMilestone.shape)"
   ]
  },
  {
   "cell_type": "code",
   "execution_count": null,
   "id": "b9a4f408",
   "metadata": {},
   "outputs": [],
   "source": [
    "# Remove single investment rows that \n",
    "# - do not have any forecast AND actuals \n",
    "# - have scenario forecast in the future \n",
    "# do not need to do a groupby per inestmentCode\n",
    "\n",
    "\n",
    "def CompletedScenarioLastMonth(df):\n",
    "    df[~(df['Milestone_Core_ForecastDate'].isnull() & df['Milestone_Core_ActualDate'].isnull()) ]\n",
    "    return df[(df['Scenario__LastMonth'] <= \"2021-10-01\")]   \n",
    "\n",
    "df_NoFutureForecast = CompletedScenarioLastMonth(df_NoFutureMilestone)\n",
    "print(df_NoFutureForecast)\n",
    "\n",
    "print('Unique investment (Keep the ones that do not have forecast in the future): ',df_NoFutureForecast['InvestmentCode'].nunique())\n",
    "print('Shape of the dataset (Keep the ones that do not have forecast in the future): ',df_NoFutureForecast.shape)"
   ]
  },
  {
   "cell_type": "code",
   "execution_count": null,
   "id": "92da1d82",
   "metadata": {},
   "outputs": [],
   "source": [
    "\n",
    "# Output the dataset after Step 3 Version 2\n",
    "operation = '_no Physical Completition2.xlsx'\n",
    "root_ext = os.path.splitext(path)\n",
    "outfile = root_ext[0] + operation\n",
    "df_NoFutureForecast.to_excel(outfile, index=False, encoding='utf-8')"
   ]
  },
  {
   "cell_type": "code",
   "execution_count": null,
   "id": "0144bc76",
   "metadata": {},
   "outputs": [],
   "source": []
  }
 ],
 "metadata": {
  "kernelspec": {
   "display_name": "Python 3 (ipykernel)",
   "language": "python",
   "name": "python3"
  },
  "language_info": {
   "codemirror_mode": {
    "name": "ipython",
    "version": 3
   },
   "file_extension": ".py",
   "mimetype": "text/x-python",
   "name": "python",
   "nbconvert_exporter": "python",
   "pygments_lexer": "ipython3",
   "version": "3.9.7"
  }
 },
 "nbformat": 4,
 "nbformat_minor": 5
}
